{
  "nbformat": 4,
  "nbformat_minor": 0,
  "metadata": {
    "colab": {
      "provenance": []
    },
    "kernelspec": {
      "name": "python3",
      "display_name": "Python 3"
    },
    "language_info": {
      "name": "python"
    }
  },
  "cells": [
    {
      "cell_type": "code",
      "execution_count": null,
      "metadata": {
        "id": "O1qjJBpW_z3w"
      },
      "outputs": [],
      "source": [
        "import numpy as np\n",
        "from statsmodels.tsa.stattools import adfuller\n",
        "from statsmodels.stats.stattools import durbin_watson\n",
        "\n"
      ]
    },
    {
      "cell_type": "code",
      "source": [
        "time_series = np.random.randn(100)\n",
        "residuals = np.random.randn(100)"
      ],
      "metadata": {
        "id": "ellHa_jMAOGE"
      },
      "execution_count": null,
      "outputs": []
    },
    {
      "cell_type": "code",
      "source": [
        "adf_result = adfuller(time_series)\n",
        "print('ADF Statistic:', adf_result[0])\n",
        "print('p-value:', adf_result[1])\n",
        "\n",
        "#p value should be very small"
      ],
      "metadata": {
        "colab": {
          "base_uri": "https://localhost:8080/"
        },
        "id": "lME9HNsLACk3",
        "outputId": "dc71d79a-bc3e-481b-b1c9-36ea53b2583d"
      },
      "execution_count": null,
      "outputs": [
        {
          "output_type": "stream",
          "name": "stdout",
          "text": [
            "ADF Statistic: -11.023061063170832\n",
            "p-value: 5.920847660115927e-20\n"
          ]
        }
      ]
    },
    {
      "cell_type": "code",
      "source": [
        "dw_statistic = durbin_watson(residuals)\n",
        "print('Durbin-Watson Statistic:', dw_statistic)\n",
        "\n",
        "\n",
        "#should be near 2"
      ],
      "metadata": {
        "colab": {
          "base_uri": "https://localhost:8080/"
        },
        "id": "kx5-awvDAHbE",
        "outputId": "96620ff0-79c5-4c6a-f050-dd957860e2c2"
      },
      "execution_count": null,
      "outputs": [
        {
          "output_type": "stream",
          "name": "stdout",
          "text": [
            "Durbin-Watson Statistic: 2.1664254563773677\n"
          ]
        }
      ]
    }
  ]
}